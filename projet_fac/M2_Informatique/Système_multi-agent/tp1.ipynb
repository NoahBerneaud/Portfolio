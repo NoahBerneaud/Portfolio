{
 "cells": [
  {
   "cell_type": "code",
   "execution_count": 2,
   "metadata": {
    "ExecuteTime": {
     "end_time": "2023-12-06T14:01:19.972577500Z",
     "start_time": "2023-12-06T14:01:19.956914900Z"
    },
    "collapsed": true
   },
   "outputs": [],
   "source": [
    "from itertools import product\n",
    "import pandas as pd\n",
    "\n",
    "class Jeu:\n",
    "    def __init__(self, joueurs,stategies, profil,utilites):\n",
    "        self.joueurs = joueurs\n",
    "        self.nb_joueurs = len(joueurs)\n",
    "        self.strategies = stategies\n",
    "        self.profil = profil\n",
    "        self.utility = utilites\n",
    "\n",
    "    def allStrategyProfils(self):\n",
    "        allStrategy = []\n",
    "        for i in range(len(self.strategies)):\n",
    "            allStrategy.append(self.strategies[i][1])\n",
    "        allStrategy =  list(product(*allStrategy))\n",
    "        allStrategy2 = []\n",
    "        for(i,elem) in enumerate(allStrategy):\n",
    "            stat = []\n",
    "            for joueur in self.joueurs:\n",
    "                stat.append((joueur,elem[self.joueurs.index(joueur)]))\n",
    "            allStrategy2.append(stat)\n",
    "        return allStrategy2\n",
    "\n",
    "    def removePlayer(self, joueur, profil):\n",
    "        profil_copy = profil.copy()\n",
    "        profil_copy = [x for x in profil_copy if x[0] != joueur] # On supprime le joueur du profil\n",
    "        return profil_copy\n",
    "\n",
    "\n",
    "    def addPlayer(self,player,strategy,profil):\n",
    "           profil_copy = profil.copy()\n",
    "           if(player,strategy) not in profil_copy:\n",
    "                for i in range(len(profil_copy)):\n",
    "                    if(profil_copy[i][0] == player):\n",
    "                        profil_copy[i] = (player,strategy) # On remplace la stratégie du joueur par la nouvelle\n",
    "           return profil_copy\n",
    "\n",
    "    def isDominated(self,player,strategy1):\n",
    "        strategies_joueurs = self.strategies[self.joueurs.index(player)][1]\n",
    "        for strategy2 in strategies_joueurs:\n",
    "            if(strategy1 != strategy2):\n",
    "                if(self.isDominated2(player,strategy1,strategy2)): # On regarde si la stratégie est dominée par une autre\n",
    "                    return True\n",
    "        return False\n",
    "\n",
    "    def isDominated2(self,player,strategy1,strategy2):\n",
    "        allProfils = self.allStrategyProfils()\n",
    "        for profil in allProfils:\n",
    "            profilStrat1 = profil.copy()\n",
    "            profilStrat2 = profil.copy()\n",
    "\n",
    "            profilStrat1 = self.addPlayer(player,strategy1, profil) # On remplace la stratégie du joueur par la nouvelle\n",
    "            profilStrat2 = self.addPlayer(player,strategy2,profil) # On remplace la stratégie du joueur par la nouvelle\n",
    "\n",
    "            if(self.utility[player][str(profilStrat1)] >= self.utility[player][str(profilStrat2)]): # Si la nouvelle stratégie est moins bonne\n",
    "                return False\n",
    "        return True\n",
    "\n",
    "\n",
    "    def IESDS(self):\n",
    "        changed = True\n",
    "        while(changed):\n",
    "            changed = False\n",
    "            for player in self.joueurs:\n",
    "                for strategy in self.strategies[self.joueurs.index(player)][1]: # Pour chaque stratégie du joueur\n",
    "                    if(self.isDominated(player,strategy)): # Si la stratégie est dominée\n",
    "                        print(\"Strategie \" + strategy + \" de \" + player + \" est dominée\")\n",
    "                        self.strategies[self.joueurs.index(player)][1].remove(strategy) # On la supprime\n",
    "                        changed = True\n",
    "        return self.strategies # On retourne les stratégies restantes\n",
    "\n",
    "    def securityLevel(self,player,strategy):\n",
    "        mini = 1e10 # On initialise la valeur minimale à une valeur très grande\n",
    "        allProfils = self.allStrategyProfils()\n",
    "        for profil in allProfils: # Pour chaque profil\n",
    "            if((player,strategy) in profil): # Si la stratégie est dans le profil\n",
    "                val = self.utility[player][str(profil)] # On récupère l'utilité du joueur\n",
    "                if(val < mini): # Si l'utilité est plus petite que la valeur minimale\n",
    "                    mini = val # On met à jour la valeur minimale\n",
    "        return mini\n",
    "    \n",
    "    def isParetoDominant(self,profil1,profil2):\n",
    "        for joueur in self.joueurs: # Pour chaque joueur\n",
    "            if(self.utility[joueur][str(profil1)] <= self.utility[joueur][str(profil2)]) :  # Si l'utilité du joueur est plus petite dans le profil 1\n",
    "                return False # Le profil n'est pas pareto dominant\n",
    "        return True\n",
    "    \n",
    "    def optimumPareto(self):\n",
    "        allProfils = self.allStrategyProfils()\n",
    "        pareto = []\n",
    "        for profil in allProfils:\n",
    "            for profil2 in allProfils:\n",
    "                # On regarde si le profil est pareto dominant par rapport à tous les autres profils\n",
    "                if(profil != profil2): # (on ne compare pas le profil avec lui même)\n",
    "                    isPareto = self.isParetoDominant(profil,profil2)\n",
    "            if(isPareto): # Si le profil est pareto dominant\n",
    "                pareto.append(profil) # On l'ajoute à la liste des profils de pareto\n",
    "        return pareto\n",
    "    \n",
    "    def isNash(self,profil1):\n",
    "        allProfils = self.allStrategyProfils()\n",
    "        for strategie in profil1: # Pour chaque stratégie du profil\n",
    "            strategie_adv_fixe = profil1.copy()\n",
    "            strategie_adv_fixe.remove(strategie)\n",
    "            strategie_adv_fixe = strategie_adv_fixe[0] # On fixe la stratégie de l'adversaire\n",
    "            for profil2 in allProfils: # Pour chaque profil\n",
    "                if(profil1 != profil2 and strategie_adv_fixe in profil2): # Si le profil est différent du profil de base et que la stratégie de l'adversaire est la même\n",
    "                   if(self.utility[strategie[0]][str(profil1)] < self.utility[strategie[0]][str(profil2)]): # Si l'utilité du joueur est plus petite dans le profil 1\n",
    "                       return False # Le profil n'est pas un équilibre de Nash\n",
    "        return True                     \n",
    "                   \n",
    "    \n",
    "    def equilibreNash(self):\n",
    "        allProfils = self.allStrategyProfils()\n",
    "        nash=[]\n",
    "        isNash = False\n",
    "        for profil in allProfils: # Pour chaque profil\n",
    "            isNash = False\n",
    "            isNash = self.isNash(profil) # On regarde si le profil est un équilibre de Nash\n",
    "            if(isNash): # Si le profil l'est\n",
    "                nash.append(profil) # On l'ajoute à la liste\n",
    "        return nash\n",
    "    \n",
    "    def affichageJeu(self):\n",
    "        # Créer un DataFrame vide\n",
    "        df = pd.DataFrame(index=self.strategies[0][1], columns=self.strategies[1][1])\n",
    "        allProfils = self.allStrategyProfils()\n",
    "        for profil in allProfils:\n",
    "            l = [profil[0][1],profil[1][1]]\n",
    "            df.loc[l[0],l[1]] = [self.utility[profil[0][0]][str(profil)],self.utility[profil[1][0]][str(profil)]]\n",
    "        \n",
    "        df.loc[self.joueurs[0], :] = \"\"\n",
    "        df.loc[:, self.joueurs[1]] = \"\"\n",
    "        return df\n"
   ]
  },
  {
   "cell_type": "markdown",
   "metadata": {},
   "source": [
    "# Q.1 Elimination des stratégies dominées (IESDS)"
   ]
  },
  {
   "cell_type": "code",
   "execution_count": 3,
   "metadata": {},
   "outputs": [
    {
     "name": "stdout",
     "output_type": "stream",
     "text": [
      "              A       B       C Joueur2\n",
      "D        [4, 3]  [5, 1]  [6, 2]        \n",
      "E        [2, 1]  [8, 4]  [3, 6]        \n",
      "F        [3, 0]  [9, 6]  [2, 8]        \n",
      "Joueur1                                \n",
      "Strategie B de Joueur2 est dominée\n",
      "Strategie E de Joueur1 est dominée\n",
      "Strategie F de Joueur1 est dominée\n",
      "Strategie C de Joueur2 est dominée\n",
      "Les stratégies dominées sont : [('Joueur1', ['D']), ('Joueur2', ['A'])]\n"
     ]
    }
   ],
   "source": [
    "joueurs = [\"Joueur1\",\"Joueur2\"]\n",
    "strategies = [(\"Joueur1\",[\"D\",\"E\",\"F\"]),(\"Joueur2\",[\"A\",\"B\",\"C\"])]\n",
    "\n",
    "utilites = []\n",
    "utilitesJ1 = {str([(\"Joueur1\", \"D\"), (\"Joueur2\", \"A\")]) : 4,\n",
    "                str([(\"Joueur1\", \"D\"), (\"Joueur2\", \"B\")]) : 5,\n",
    "                str([(\"Joueur1\", \"D\"), (\"Joueur2\", \"C\")]) : 6,\n",
    "                str([(\"Joueur1\", \"E\"), (\"Joueur2\", \"A\")]) : 2,\n",
    "                str([(\"Joueur1\", \"E\"), (\"Joueur2\", \"B\")]) : 8,\n",
    "                str([(\"Joueur1\", \"E\"), (\"Joueur2\", \"C\")]) : 3,\n",
    "                str([(\"Joueur1\", \"F\"), (\"Joueur2\", \"A\")]) : 3,\n",
    "                str([(\"Joueur1\", \"F\"), (\"Joueur2\", \"B\")]) : 9,\n",
    "                str([(\"Joueur1\", \"F\"), (\"Joueur2\", \"C\")]) : 2}\n",
    "\n",
    "utilitesJ2 = {str([(\"Joueur1\", \"D\"), (\"Joueur2\", \"A\")]) : 3,\n",
    "                str([(\"Joueur1\", \"D\"), (\"Joueur2\", \"B\")]) : 1,\n",
    "                str([(\"Joueur1\", \"D\"), (\"Joueur2\", \"C\")]) : 2,\n",
    "                str([(\"Joueur1\", \"E\"), (\"Joueur2\", \"A\")]) : 1,\n",
    "                str([(\"Joueur1\", \"E\"), (\"Joueur2\", \"B\")]) : 4,\n",
    "                str([(\"Joueur1\", \"E\"), (\"Joueur2\", \"C\")]) : 6,\n",
    "                str([(\"Joueur1\", \"F\"), (\"Joueur2\", \"A\")]) : 0,\n",
    "                str([(\"Joueur1\", \"F\"), (\"Joueur2\", \"B\")]) : 6,\n",
    "                str([(\"Joueur1\", \"F\"), (\"Joueur2\", \"C\")]) : 8}\n",
    "\n",
    "utilites = {\"Joueur1\" : utilitesJ1, \"Joueur2\" : utilitesJ2}\n",
    "\n",
    "j = Jeu(joueurs,strategies,strategies,utilites)\n",
    "print(j.affichageJeu())\n",
    "print(\"Les stratégies dominées sont :\",j.IESDS())"
   ]
  },
  {
   "cell_type": "markdown",
   "metadata": {},
   "source": [
    "# Q.2 Niveau de sécurité"
   ]
  },
  {
   "cell_type": "code",
   "execution_count": 4,
   "metadata": {
    "ExecuteTime": {
     "end_time": "2023-12-06T12:43:33.437625700Z",
     "start_time": "2023-12-06T12:43:33.390345200Z"
    },
    "collapsed": false
   },
   "outputs": [
    {
     "name": "stdout",
     "output_type": "stream",
     "text": [
      "              A       B Joueur2\n",
      "C        [9, 9]  [0, 8]        \n",
      "D        [8, 0]  [7, 7]        \n",
      "Joueur1                        \n",
      "Le joueur1 a un security level de  7\n"
     ]
    }
   ],
   "source": [
    "joueurs = [\"Joueur1\",\"Joueur2\"]\n",
    "strategies = [(\"Joueur1\",[\"C\",\"D\"]),(\"Joueur2\",[\"A\",\"B\"])]\n",
    "\n",
    "utilites = []\n",
    "utilitesJ1 = {str([(\"Joueur1\", \"C\"), (\"Joueur2\", \"A\")]) : 9,\n",
    "                str([(\"Joueur1\", \"C\"), (\"Joueur2\", \"B\")]) : 0,\n",
    "                str([(\"Joueur1\", \"D\"), (\"Joueur2\", \"A\")]) : 8,\n",
    "                str([(\"Joueur1\", \"D\"), (\"Joueur2\", \"B\")]) : 7}\n",
    "\n",
    "utilitesJ2 = {str([(\"Joueur1\", \"C\"), (\"Joueur2\", \"A\")]) : 9,\n",
    "                str([(\"Joueur1\", \"C\"), (\"Joueur2\", \"B\")]) : 8,\n",
    "                str([(\"Joueur1\", \"D\"), (\"Joueur2\", \"A\")]) : 0,\n",
    "                str([(\"Joueur1\", \"D\"), (\"Joueur2\", \"B\")]) : 7}\n",
    "\n",
    "utilites = {\"Joueur1\" : utilitesJ1, \"Joueur2\" : utilitesJ2}\n",
    "\n",
    "j = Jeu(joueurs,strategies,strategies,utilites)\n",
    "print(j.affichageJeu())\n",
    "print(\"Le joueur1 a un security level de  \" + str(j.securityLevel(\"Joueur1\",\"D\")))"
   ]
  },
  {
   "cell_type": "markdown",
   "metadata": {},
   "source": [
    "# Q.3 Les optima de Pareto"
   ]
  },
  {
   "cell_type": "code",
   "execution_count": 5,
   "metadata": {},
   "outputs": [
    {
     "name": "stdout",
     "output_type": "stream",
     "text": [
      "              A       B Joueur2\n",
      "C        [4, 4]  [0, 3]        \n",
      "D        [3, 1]  [4, 5]        \n",
      "Joueur1                        \n",
      "Les optima de Pareto sont : [[('Joueur1', 'D'), ('Joueur2', 'B')]]\n"
     ]
    }
   ],
   "source": [
    "joueurs = [\"Joueur1\",\"Joueur2\"]\n",
    "strategies = [(\"Joueur1\",[\"C\",\"D\"]),(\"Joueur2\",[\"A\",\"B\"])]\n",
    "\n",
    "utilites = []\n",
    "utilitesJ1 = {str([(\"Joueur1\", \"C\"), (\"Joueur2\", \"A\")]) : 4,\n",
    "                str([(\"Joueur1\", \"C\"), (\"Joueur2\", \"B\")]) : 0,\n",
    "                str([(\"Joueur1\", \"D\"), (\"Joueur2\", \"A\")]) : 3,\n",
    "                str([(\"Joueur1\", \"D\"), (\"Joueur2\", \"B\")]) : 4}\n",
    "\n",
    "utilitesJ2 = {str([(\"Joueur1\", \"C\"), (\"Joueur2\", \"A\")]) : 4,\n",
    "                str([(\"Joueur1\", \"C\"), (\"Joueur2\", \"B\")]) : 3,\n",
    "                str([(\"Joueur1\", \"D\"), (\"Joueur2\", \"A\")]) : 1,\n",
    "                str([(\"Joueur1\", \"D\"), (\"Joueur2\", \"B\")]) : 5}\n",
    "\n",
    "utilites = {\"Joueur1\" : utilitesJ1, \"Joueur2\" : utilitesJ2}\n",
    "\n",
    "j = Jeu(joueurs,strategies,strategies,utilites)\n",
    "print(j.affichageJeu())\n",
    "print(\"Les optima de Pareto sont :\",j.optimumPareto())"
   ]
  },
  {
   "cell_type": "markdown",
   "metadata": {},
   "source": [
    "# Q.4 Les équilibres de Nash"
   ]
  },
  {
   "cell_type": "code",
   "execution_count": 6,
   "metadata": {},
   "outputs": [
    {
     "name": "stdout",
     "output_type": "stream",
     "text": [
      "              A       B       C Joueur2\n",
      "D        [4, 3]  [5, 1]  [6, 2]        \n",
      "E        [2, 1]  [8, 4]  [3, 6]        \n",
      "F        [3, 0]  [9, 6]  [2, 8]        \n",
      "Joueur1                                \n",
      "Les équilibres de Nash sont : [[('Joueur1', 'D'), ('Joueur2', 'A')]]\n"
     ]
    }
   ],
   "source": [
    "joueurs = [\"Joueur1\",\"Joueur2\"]\n",
    "strategies = [(\"Joueur1\",[\"D\",\"E\",\"F\"]),(\"Joueur2\",[\"A\",\"B\",\"C\"])]\n",
    "\n",
    "utilites = []\n",
    "utilitesJ1 = {str([(\"Joueur1\", \"D\"), (\"Joueur2\", \"A\")]) : 4,\n",
    "                str([(\"Joueur1\", \"D\"), (\"Joueur2\", \"B\")]) : 5,\n",
    "                str([(\"Joueur1\", \"D\"), (\"Joueur2\", \"C\")]) : 6,\n",
    "                str([(\"Joueur1\", \"E\"), (\"Joueur2\", \"A\")]) : 2,\n",
    "                str([(\"Joueur1\", \"E\"), (\"Joueur2\", \"B\")]) : 8,\n",
    "                str([(\"Joueur1\", \"E\"), (\"Joueur2\", \"C\")]) : 3,\n",
    "                str([(\"Joueur1\", \"F\"), (\"Joueur2\", \"A\")]) : 3,\n",
    "                str([(\"Joueur1\", \"F\"), (\"Joueur2\", \"B\")]) : 9,\n",
    "                str([(\"Joueur1\", \"F\"), (\"Joueur2\", \"C\")]) : 2}\n",
    "\n",
    "utilitesJ2 = {str([(\"Joueur1\", \"D\"), (\"Joueur2\", \"A\")]) : 3,\n",
    "                str([(\"Joueur1\", \"D\"), (\"Joueur2\", \"B\")]) : 1,\n",
    "                str([(\"Joueur1\", \"D\"), (\"Joueur2\", \"C\")]) : 2,\n",
    "                str([(\"Joueur1\", \"E\"), (\"Joueur2\", \"A\")]) : 1,\n",
    "                str([(\"Joueur1\", \"E\"), (\"Joueur2\", \"B\")]) : 4,\n",
    "                str([(\"Joueur1\", \"E\"), (\"Joueur2\", \"C\")]) : 6,\n",
    "                str([(\"Joueur1\", \"F\"), (\"Joueur2\", \"A\")]) : 0,\n",
    "                str([(\"Joueur1\", \"F\"), (\"Joueur2\", \"B\")]) : 6,\n",
    "                str([(\"Joueur1\", \"F\"), (\"Joueur2\", \"C\")]) : 8}\n",
    "\n",
    "utilites = {\"Joueur1\" : utilitesJ1, \"Joueur2\" : utilitesJ2}\n",
    "\n",
    "j = Jeu(joueurs,strategies,strategies,utilites)\n",
    "print(j.affichageJeu())\n",
    "print(\"Les équilibres de Nash sont :\",j.equilibreNash())"
   ]
  }
 ],
 "metadata": {
  "kernelspec": {
   "display_name": ".venv",
   "language": "python",
   "name": "python3"
  },
  "language_info": {
   "codemirror_mode": {
    "name": "ipython",
    "version": 3
   },
   "file_extension": ".py",
   "mimetype": "text/x-python",
   "name": "python",
   "nbconvert_exporter": "python",
   "pygments_lexer": "ipython3",
   "version": "3.11.4"
  }
 },
 "nbformat": 4,
 "nbformat_minor": 0
}
