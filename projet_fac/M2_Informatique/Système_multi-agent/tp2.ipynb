{
 "cells": [
  {
   "cell_type": "code",
   "execution_count": 1,
   "metadata": {},
   "outputs": [],
   "source": [
    "import itertools\n",
    "class Jeu:\n",
    "    def __init__(self,joueurs,coalitions,structure_coalition,imputation,caracteristique ):\n",
    "        self.joueurs = joueurs\n",
    "        self.coalitions = coalitions\n",
    "        self.structure_coalition = structure_coalition\n",
    "        self.imputation = imputation\n",
    "        self.caracteristique = caracteristique\n",
    "\n",
    "    def isMonotone(self):\n",
    "        for i in self.coalitions:\n",
    "          val1 = self.caracteristique[i] # u(C)\n",
    "          for item in i : \n",
    "            val2 = self.caracteristique.get(frozenset(item)) # u(C') tel que C' inclus dans C\n",
    "            if val1 < val2 : # u(C) < u(C')\n",
    "              return False\n",
    "        return True\n",
    "    \n",
    "    def isSuperAdditive(self):\n",
    "        for coalition1 in self.coalitions:\n",
    "            for coalition2 in self.coalitions:\n",
    "                if(coalition1 != coalition2): # C != C'\n",
    "                    coalitionUnion = coalition1.union(coalition2) # (C U C')\n",
    "                    if(coalitionUnion in self.coalitions and coalitionUnion != coalition1 and coalitionUnion != coalition2): # (C U C') in C et (C U C') != C et (C U C') != C'\n",
    "                        if(self.caracteristique[coalitionUnion] < self.caracteristique[coalition1] + self.caracteristique[coalition2]): # v(C U C') < v(C) + v(C')\n",
    "                            return False\n",
    "        return True\n",
    "\n",
    "\n",
    "    def isConvexe(self):\n",
    "        for coalition1 in self.coalitions:\n",
    "            for coalition2 in self.coalitions:\n",
    "                coalitionUnion = coalition1.union(coalition2) # (C U C')\n",
    "                coalitionIntersection = coalition1.intersection(coalition2) # (C n C')\n",
    "                if coalitionUnion in self.coalitions and coalitionIntersection in self.coalitions: # (C U C') in C et (C n C') in C\n",
    "                    # v(C U C') + v(C n C') < v(C) + v(C')\n",
    "                    if(self.caracteristique[coalitionUnion] + self.caracteristique[coalitionIntersection] < self.caracteristique[coalition1] + self.caracteristique[coalition2]):\n",
    "                        return False\n",
    "        return True\n",
    "    \n",
    "    def isVeto(self):\n",
    "        listVeto = []\n",
    "        for joueur in self.joueurs:\n",
    "            is_Veto = True\n",
    "            for coalition in self.coalitions:\n",
    "                if not joueur in coalition:\n",
    "                    if(self.caracteristique[coalition] != 0): # Si il existe une coalition sans le joueur qui n'a pas une valeur nulle\n",
    "                        is_Veto = False #Le joueur n'est pas un veto\n",
    "            if is_Veto:\n",
    "                listVeto.append(joueur)\n",
    "        return listVeto\n",
    "                    \n",
    "    def valeur_Shapley(self,joueur):\n",
    "        somme = 0\n",
    "        permutations = list(itertools.permutations(self.joueurs)) # Liste des permutations des joueurs\n",
    "        for permutation in permutations:\n",
    "            joueurs_avant = set() # Ensemble des joueurs avant le joueur concerné\n",
    "            while len(joueurs_avant) < len(permutation) and permutation[len(joueurs_avant)] != joueur:\n",
    "                joueurs_avant.add(permutation[len(joueurs_avant)])  \n",
    "            somme += self.caracteristique[frozenset(joueurs_avant)] # Somme des valeurs des joueurs avant le joueur concerné\n",
    "        \n",
    "        return somme/len(permutations) # Somme divisée par le nombre de permutations\n",
    "            \n"
   ]
  },
  {
   "cell_type": "code",
   "execution_count": 2,
   "metadata": {},
   "outputs": [],
   "source": [
    "joueurs = [\"A\",\"B\",\"C\"] \n",
    "coalition_set = set()\n",
    "caracteristique = {}\n",
    "\n",
    "for i in range(1, len(joueurs) + 1):\n",
    "    for subset in itertools.combinations(joueurs, i):\n",
    "        coalition_set.add(frozenset(subset))\n",
    "        structure_coalition = set()"
   ]
  },
  {
   "cell_type": "markdown",
   "metadata": {},
   "source": [
    "# Q.1 Test monotonicité d'un jeu "
   ]
  },
  {
   "cell_type": "code",
   "execution_count": 3,
   "metadata": {},
   "outputs": [
    {
     "name": "stdout",
     "output_type": "stream",
     "text": [
      "Le jeu est monotone ? True\n",
      "Le jeu est monotone ? False\n"
     ]
    }
   ],
   "source": [
    "caracteristique[frozenset(\"\")] = 0\n",
    "caracteristique[frozenset({\"A\"})] = 0\n",
    "caracteristique[frozenset({\"B\"})] = 0\n",
    "caracteristique[frozenset({\"C\"})] = 0\n",
    "caracteristique[frozenset({\"A\",\"B\"})] = 500\n",
    "caracteristique[frozenset({\"A\",\"C\"})] = 500\n",
    "caracteristique[frozenset({\"B\",\"C\"})] = 750\n",
    "caracteristique[frozenset({\"A\",\"B\",\"C\"})] = 1000\n",
    "\n",
    "\n",
    "for coalition in coalition_set:\n",
    "    for coalition2 in coalition_set:\n",
    "        if not coalition.intersection(coalition2):\n",
    "            structure_coalition.add((coalition,coalition2))\n",
    "\n",
    "imputation = {\"A\": 4, \"B\": 5, \"C\": 3}\n",
    "\n",
    "jeu = Jeu(joueurs,coalition_set,structure_coalition,imputation,caracteristique)\n",
    "print(\"Le jeu est monotone ?\",jeu.isMonotone())\n",
    "\n",
    "caracteristique[frozenset({\"A\"})] = 700\n",
    "\n",
    "print(\"Le jeu est monotone ?\",jeu.isMonotone())"
   ]
  },
  {
   "cell_type": "markdown",
   "metadata": {},
   "source": [
    "# Q.2 Test superadditivité"
   ]
  },
  {
   "cell_type": "code",
   "execution_count": 4,
   "metadata": {},
   "outputs": [
    {
     "name": "stdout",
     "output_type": "stream",
     "text": [
      "Le jeu est superadditive ? True\n",
      "Le jeu est superadditive ? False\n"
     ]
    }
   ],
   "source": [
    "caracteristique[frozenset(\"\")] = 0\n",
    "caracteristique[frozenset({\"A\"})] = 0\n",
    "caracteristique[frozenset({\"B\"})] = 0\n",
    "caracteristique[frozenset({\"C\"})] = 0\n",
    "caracteristique[frozenset({\"A\",\"B\"})] = 1\n",
    "caracteristique[frozenset({\"A\",\"C\"})] = 1\n",
    "caracteristique[frozenset({\"B\",\"C\"})] = 1\n",
    "caracteristique[frozenset({\"A\",\"B\",\"C\"})] = 10\n",
    "\n",
    "\n",
    "for coalition in coalition_set:\n",
    "    for coalition2 in coalition_set:\n",
    "        if not coalition.intersection(coalition2):\n",
    "            structure_coalition.add((coalition,coalition2))\n",
    "\n",
    "imputation = {\"A\": 4, \"B\": 5, \"C\": 3}\n",
    "\n",
    "jeu = Jeu(joueurs,coalition_set,structure_coalition,imputation,caracteristique)\n",
    "print(\"Le jeu est superadditive ?\",jeu.isSuperAdditive())\n",
    "\n",
    "caracteristique[frozenset({\"A\"})] = 700\n",
    "\n",
    "print(\"Le jeu est superadditive ?\",jeu.isSuperAdditive())"
   ]
  },
  {
   "cell_type": "markdown",
   "metadata": {},
   "source": [
    "# Q.3 Test Convexité"
   ]
  },
  {
   "cell_type": "code",
   "execution_count": 5,
   "metadata": {},
   "outputs": [
    {
     "name": "stdout",
     "output_type": "stream",
     "text": [
      "Le jeu est convexe ? False\n",
      "Le jeu est convexe ? True\n"
     ]
    }
   ],
   "source": [
    "caracteristique[frozenset(\"\")] = 0\n",
    "caracteristique[frozenset({\"A\"})] =0\n",
    "caracteristique[frozenset({\"B\"})] = 0\n",
    "caracteristique[frozenset({\"C\"})] = 0\n",
    "caracteristique[frozenset({\"A\",\"B\"})] = 1000\n",
    "caracteristique[frozenset({\"A\",\"C\"})] = 1000\n",
    "caracteristique[frozenset({\"B\",\"C\"})] = 1000\n",
    "caracteristique[frozenset({\"A\",\"B\",\"C\"})] = 1250\n",
    "\n",
    "\n",
    "for coalition in coalition_set:\n",
    "    for coalition2 in coalition_set:\n",
    "        if not coalition.intersection(coalition2):\n",
    "            structure_coalition.add((coalition,coalition2))\n",
    "\n",
    "imputation = {\"A\": 4, \"B\": 5, \"C\": 3}\n",
    "\n",
    "jeu = Jeu(joueurs,coalition_set,structure_coalition,imputation,caracteristique)\n",
    "print(\"Le jeu est convexe ?\",jeu.isConvexe())\n",
    "\n",
    "caracteristique[frozenset({\"A\",\"B\",\"C\"})] = 3000\n",
    "\n",
    "print(\"Le jeu est convexe ?\",jeu.isConvexe())"
   ]
  },
  {
   "cell_type": "markdown",
   "metadata": {},
   "source": [
    "# Q.4 Le cœur d’un jeu simple"
   ]
  },
  {
   "cell_type": "code",
   "execution_count": 6,
   "metadata": {},
   "outputs": [
    {
     "name": "stdout",
     "output_type": "stream",
     "text": [
      "Le coeur du jeu simple est: ['B', 'C']\n",
      "Le coeur du jeu simple est: []\n"
     ]
    }
   ],
   "source": [
    "caracteristique[frozenset(\"\")] = 0\n",
    "caracteristique[frozenset({\"A\"})] = 0\n",
    "caracteristique[frozenset({\"B\"})] = 0\n",
    "caracteristique[frozenset({\"C\"})] = 0\n",
    "caracteristique[frozenset({\"A\",\"B\"})] = 0\n",
    "caracteristique[frozenset({\"A\",\"C\"})] = 0\n",
    "caracteristique[frozenset({\"B\",\"C\"})] = 1\n",
    "caracteristique[frozenset({\"A\",\"B\",\"C\"})] = 1\n",
    "\n",
    "print(\"Le coeur du jeu simple est:\",jeu.isVeto())\n",
    "\n",
    "caracteristique[frozenset({\"A\",\"B\"})] = 1\n",
    "caracteristique[frozenset({\"A\",\"C\"})] = 1\n",
    "\n",
    "print(\"Le coeur du jeu simple est:\",jeu.isVeto())"
   ]
  },
  {
   "cell_type": "markdown",
   "metadata": {},
   "source": [
    "# Q.5 La valeur de Shapley"
   ]
  },
  {
   "cell_type": "code",
   "execution_count": 7,
   "metadata": {},
   "outputs": [
    {
     "name": "stdout",
     "output_type": "stream",
     "text": [
      "La valeur de Shapley de A est : 250.0\n"
     ]
    }
   ],
   "source": [
    "caracteristique[frozenset(\"\")] = 0\n",
    "caracteristique[frozenset({\"A\"})] = 0\n",
    "caracteristique[frozenset({\"B\"})] = 0\n",
    "caracteristique[frozenset({\"C\"})] = 0\n",
    "caracteristique[frozenset({\"A\",\"B\"})] = 500\n",
    "caracteristique[frozenset({\"A\",\"C\"})] = 500\n",
    "caracteristique[frozenset({\"B\",\"C\"})] = 750\n",
    "caracteristique[frozenset({\"A\",\"B\",\"C\"})] = 1000\n",
    "\n",
    "print(\"La valeur de Shapley de A est :\",jeu.valeur_Shapley(\"A\"))"
   ]
  }
 ],
 "metadata": {
  "kernelspec": {
   "display_name": ".venv",
   "language": "python",
   "name": "python3"
  },
  "language_info": {
   "codemirror_mode": {
    "name": "ipython",
    "version": 3
   },
   "file_extension": ".py",
   "mimetype": "text/x-python",
   "name": "python",
   "nbconvert_exporter": "python",
   "pygments_lexer": "ipython3",
   "version": "3.11.4"
  }
 },
 "nbformat": 4,
 "nbformat_minor": 2
}
